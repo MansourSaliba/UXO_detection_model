{
  "nbformat": 4,
  "nbformat_minor": 0,
  "metadata": {
    "colab": {
      "provenance": []
    },
    "kernelspec": {
      "name": "python3",
      "display_name": "Python 3"
    },
    "language_info": {
      "name": "python"
    }
  },
  "cells": [
    {
      "cell_type": "markdown",
      "source": [
        "**UXO Detection using YOLOv8:**\n",
        "\n",
        "This notebook serves to outline the code used in developing a detection model using YOLOv8. The detection is performed on labeled image data of unexploded ordnances (UXOs) underwater. The full project can be accessed on this github repository: https://github.com/MansourSaliba/UXO_detection_model"
      ],
      "metadata": {
        "id": "AyE91vXosaw5"
      }
    },
    {
      "cell_type": "markdown",
      "source": [
        "***Initial steps:***"
      ],
      "metadata": {
        "id": "BlnZ7pdUtIxW"
      }
    },
    {
      "cell_type": "code",
      "execution_count": null,
      "metadata": {
        "id": "wTJ4TcBMsXeT"
      },
      "outputs": [],
      "source": [
        "# Mount Google Drive\n",
        "\n",
        "from google.colab import drive\n",
        "\n",
        "drive.mount('/content/drive')"
      ]
    },
    {
      "cell_type": "code",
      "source": [
        "# Import libraries\n",
        "# Install packages before this step if not installed (e.g. !pip install ultralytics mlflow)\n",
        "\n",
        "import os\n",
        "import json\n",
        "import mlflow\n",
        "import torch\n",
        "import yaml\n",
        "from pathlib import Path\n",
        "from ultralytics import YOLO\n",
        "import shutil\n",
        "import random\n",
        "from tqdm import tqdm"
      ],
      "metadata": {
        "id": "xPnHLpbPtO_S"
      },
      "execution_count": null,
      "outputs": []
    },
    {
      "cell_type": "code",
      "source": [
        "# Define paths (Adjust based on your paths)\n",
        "\n",
        "IMAGE_DIR = \"/content/drive/MyDrive/UXO_project/UXO_dataset/processed/UXO/gopro\"\n",
        "LABEL_DIR = \"/content/drive/MyDrive/UXO_project/UXO_dataset/processed/UXO/labels\"\n",
        "OUTPUT_DIR = \"/content/drive/MyDrive/UXO_project/UXO_dataset/processed/UXO\" # Output for split data (train, validate, and test)"
      ],
      "metadata": {
        "id": "NFXWli83ti3N"
      },
      "execution_count": null,
      "outputs": []
    },
    {
      "cell_type": "code",
      "source": [
        "# Set up MLflow\n",
        "\n",
        "mlflow.set_tracking_uri(\"file:/content/drive/MyDrive/UXO_project/mlruns\")\n",
        "mlflow.set_experiment(\"yolo_detection\")"
      ],
      "metadata": {
        "id": "F4vUtzmPtjda"
      },
      "execution_count": null,
      "outputs": []
    },
    {
      "cell_type": "code",
      "source": [
        "# Check runtime\n",
        "\n",
        "device = torch.device(\"cuda\" if torch.cuda.is_available() else \"cpu\")\n",
        "print(f\"Using device: {device}\")"
      ],
      "metadata": {
        "id": "lrLulT0at-4m"
      },
      "execution_count": null,
      "outputs": []
    },
    {
      "cell_type": "markdown",
      "source": [
        "***Preparing dataset:***"
      ],
      "metadata": {
        "id": "bjPnE0Rit_hN"
      }
    },
    {
      "cell_type": "code",
      "source": [
        "# Splitting data and saving in new directories\n",
        "\n",
        "import os\n",
        "import shutil\n",
        "from sklearn.model_selection import train_test_split\n",
        "\n",
        "def reorganize_yolo_dataset(base_path):\n",
        "    # Define paths\n",
        "    source_images = os.path.join(base_path, 'gopro')\n",
        "    source_labels = os.path.join(base_path, 'labels')\n",
        "\n",
        "    # Create new directory structure\n",
        "    for split in ['train', 'val', 'test']:\n",
        "        for folder in ['images', 'labels']:\n",
        "            os.makedirs(os.path.join(base_path, split, folder), exist_ok=True)\n",
        "\n",
        "    # Get list of files\n",
        "    image_files = [f for f in os.listdir(source_images) if f.endswith('.jpg')]\n",
        "    label_files = [f for f in os.listdir(source_labels) if f.endswith('.json')]\n",
        "\n",
        "    # Split data (80% train, 10% val, 10% test)\n",
        "    train_files, temp_files = train_test_split(image_files, test_size=0.2, random_state=42)\n",
        "    val_files, test_files = train_test_split(temp_files, test_size=0.5, random_state=42)\n",
        "\n",
        "    # Function to copy files\n",
        "    def copy_files(files, split):\n",
        "        for file in files:\n",
        "            # Copy image\n",
        "            src_img = os.path.join(source_images, file)\n",
        "            dst_img = os.path.join(base_path, split, 'images', file)\n",
        "            shutil.copy2(src_img, dst_img)\n",
        "\n",
        "            # Copy corresponding label\n",
        "            label_file = file.replace('.jpg', '.json')\n",
        "            src_label = os.path.join(source_labels, label_file)\n",
        "            dst_label = os.path.join(base_path, split, 'labels', label_file)\n",
        "            if os.path.exists(src_label):\n",
        "                shutil.copy2(src_label, dst_label)\n",
        "\n",
        "    # Copy files to respective directories\n",
        "    copy_files(train_files, 'train')\n",
        "    copy_files(val_files, 'val')\n",
        "    copy_files(test_files, 'test')\n",
        "\n",
        "    print(\"Dataset reorganization complete!\")\n",
        "    print(f\"Train set: {len(train_files)} images\")\n",
        "    print(f\"Validation set: {len(val_files)} images\")\n",
        "    print(f\"Test set: {len(test_files)} images\")\n",
        "\n",
        "# Call the function with your base path\n",
        "base_path = '/content/drive/MyDrive/UXO_project/UXO_dataset/processed/UXO'\n",
        "reorganize_yolo_dataset(base_path)"
      ],
      "metadata": {
        "id": "Gt83RONquNef"
      },
      "execution_count": null,
      "outputs": []
    },
    {
      "cell_type": "code",
      "source": [
        "# Convert JSON labels to YOLO format\n",
        "\n",
        "import os\n",
        "import json\n",
        "import yaml\n",
        "from tqdm import tqdm\n",
        "\n",
        "# Define paths\n",
        "BASE_PATH = '/content/drive/MyDrive/UXO_project/UXO_dataset/processed/UXO'\n",
        "\n",
        "def convert_json_to_yolo_format():\n",
        "    \"\"\"Convert JSON labels to YOLO format for all splits\"\"\"\n",
        "    for split in ['train', 'val', 'test']:\n",
        "        print(f\"\\nProcessing {split} set...\")\n",
        "\n",
        "        # Paths for current split\n",
        "        images_dir = os.path.join(BASE_PATH, split, 'images')\n",
        "        labels_dir = os.path.join(BASE_PATH, split, 'labels')\n",
        "\n",
        "        # Get all JSON label files\n",
        "        json_files = [f for f in os.listdir(labels_dir) if f.endswith('.json')]\n",
        "\n",
        "        for json_file in tqdm(json_files, desc=f\"Converting {split} labels\"):\n",
        "            # Read JSON label\n",
        "            json_path = os.path.join(labels_dir, json_file)\n",
        "            with open(json_path, 'r') as f:\n",
        "                label_data = json.load(f)\n",
        "\n",
        "            # Get corresponding image to get dimensions\n",
        "            img_file = json_file.replace('.json', '.jpg')\n",
        "            img_path = os.path.join(images_dir, img_file)\n",
        "\n",
        "            # Convert to YOLO format\n",
        "            yolo_labels = []\n",
        "\n",
        "            # Get image dimensions (assuming all images are same size)\n",
        "            # If you need exact dimensions, you can use PIL to get them\n",
        "            img_width = 1920  # Adjust if your images are different size\n",
        "            img_height = 1080\n",
        "\n",
        "            # Calculate YOLO format coordinates from min/max values\n",
        "            width = label_data['x_max'] - label_data['x_min']\n",
        "            height = label_data['y_max'] - label_data['y_min']\n",
        "            x_center = (label_data['x_min'] + width/2) / img_width\n",
        "            y_center = (label_data['y_min'] + height/2) / img_height\n",
        "            width_norm = width / img_width\n",
        "            height_norm = height / img_height\n",
        "\n",
        "            # Format: class_id x_center y_center width height\n",
        "            # Using class_id 0 for \"Unexploded Ordnance\"\n",
        "            yolo_labels.append(f\"0 {x_center:.6f} {y_center:.6f} {width_norm:.6f} {height_norm:.6f}\")\n",
        "\n",
        "            # Save YOLO format label\n",
        "            yolo_file = json_file.replace('.json', '.txt')\n",
        "            yolo_path = os.path.join(labels_dir, yolo_file)\n",
        "\n",
        "            with open(yolo_path, 'w') as f:\n",
        "                f.write('\\n'.join(yolo_labels))\n",
        "\n",
        "def create_dataset_yaml():\n",
        "    \"\"\"Create YOLO dataset configuration file\"\"\"\n",
        "    yaml_content = {\n",
        "        'path': BASE_PATH,  # Base directory\n",
        "        'train': 'train/images',  # Relative to base path\n",
        "        'val': 'val/images',\n",
        "        'test': 'test/images',\n",
        "        'names': {\n",
        "            0: 'UXO'  # Class names\n",
        "        }\n",
        "    }\n",
        "\n",
        "    yaml_path = os.path.join(BASE_PATH, 'dataset.yaml')\n",
        "    with open(yaml_path, 'w') as f:\n",
        "        yaml.dump(yaml_content, f)\n",
        "\n",
        "    print(f\"\\nCreated dataset.yaml at: {yaml_path}\")\n",
        "\n",
        "# Run the conversion\n",
        "print(\"Converting JSON labels to YOLO format...\")\n",
        "convert_json_to_yolo_format()fd\n",
        "\n",
        "# Create YAML configuration\n",
        "print(\"\\nCreating dataset configuration...\")\n",
        "create_dataset_yaml()\n",
        "\n",
        "# Verify the conversion\n",
        "def verify_conversion():\n",
        "    \"\"\"Verify that labels were converted correctly\"\"\"\n",
        "    for split in ['train', 'val', 'test']:\n",
        "        labels_dir = os.path.join(BASE_PATH, split, 'labels')\n",
        "        txt_files = [f for f in os.listdir(labels_dir) if f.endswith('.txt')]\n",
        "        print(f\"\\n{split.upper()} SET:\")\n",
        "        print(f\"Converted {len(txt_files)} labels to YOLO format\")\n",
        "\n",
        "        # Check a sample label\n",
        "        if txt_files:\n",
        "            sample_path = os.path.join(labels_dir, txt_files[0])\n",
        "            with open(sample_path, 'r') as f:\n",
        "                print(f\"Sample YOLO label format: {f.read().strip()}\")\n",
        "\n",
        "print(\"\\nVerifying conversion...\")\n",
        "verify_conversion()"
      ],
      "metadata": {
        "id": "AmDknJRhxkBo"
      },
      "execution_count": null,
      "outputs": []
    },
    {
      "cell_type": "markdown",
      "source": [
        "***Training:***"
      ],
      "metadata": {
        "id": "Xfxbp5w-yAJO"
      }
    },
    {
      "cell_type": "code",
      "source": [
        "# Initialize YOLO model\n",
        "model = YOLO('yolov8n.pt')  # Using YOLOv8 nano model\n",
        "\n",
        "# Training configuration\n",
        "training_config = {\n",
        "    'data': os.path.join(OUTPUT_DIR, 'dataset.yaml'),\n",
        "    'epochs': 50,\n",
        "    'imgsz': 640,\n",
        "    'batch': 16,\n",
        "    'patience': 10,\n",
        "    'device': 0 if torch.cuda.is_available() else 'cpu'\n",
        "}\n",
        "\n",
        "# Start MLflow run\n",
        "with mlflow.start_run(run_name=\"yolov8_training\") as run:\n",
        "    # Log parameters\n",
        "    mlflow.log_params(training_config)\n",
        "\n",
        "    # Train model\n",
        "    results = model.train(\n",
        "        data=training_config['data'],\n",
        "        epochs=training_config['epochs'],\n",
        "        imgsz=training_config['imgsz'],\n",
        "        batch=training_config['batch'],\n",
        "        patience=training_config['patience'],\n",
        "        device=training_config['device']\n",
        "    )\n",
        "\n",
        "    # Log metrics\n",
        "    mlflow.log_metrics({\n",
        "        'mAP50': results.results_dict['metrics/mAP50(B)'],\n",
        "        'mAP50-95': results.results_dict['metrics/mAP50-95(B)'],\n",
        "        'precision': results.results_dict['metrics/precision(B)'],\n",
        "        'recall': results.results_dict['metrics/recall(B)']\n",
        "    })\n",
        "\n",
        "    # Save model\n",
        "    model_path = os.path.join(OUTPUT_DIR, 'YOLO_uxo.pt')\n",
        "    model.export(format='onnx')  # Export to ONNX format\n",
        "    mlflow.log_artifact(model_path)\n",
        "    mlflow.log_artifact(os.path.join(OUTPUT_DIR, 'dataset.yaml'))"
      ],
      "metadata": {
        "id": "OmnlfuNNx2ds"
      },
      "execution_count": null,
      "outputs": []
    },
    {
      "cell_type": "markdown",
      "source": [
        "***Testing:***"
      ],
      "metadata": {
        "id": "mu3jUwOjzFTj"
      }
    },
    {
      "cell_type": "code",
      "source": [
        "# Checking metrics on test data\n",
        "\n",
        "def evaluate_on_test(model_path=None, model=None, data_yaml=None):\n",
        "    \"\"\"Evaluate model on test set with enhanced metrics and error handling\n",
        "\n",
        "    Args:\n",
        "        model_path (str): Path to .pt model file (either this or 'model' must be provided)\n",
        "        model (YOLO): Loaded YOLO model object (alternative to model_path)\n",
        "        data_yaml (str): Path to dataset.yaml (defaults to OUTPUT_DIR/dataset.yaml)\n",
        "    \"\"\"\n",
        "    from ultralytics import YOLO\n",
        "    import os\n",
        "    import mlflow\n",
        "\n",
        "    # Ensure any existing run is ended\n",
        "    if mlflow.active_run():\n",
        "        mlflow.end_run()\n",
        "\n",
        "    # Handle input paths\n",
        "    if data_yaml is None:\n",
        "        data_yaml = os.path.join(OUTPUT_DIR, 'dataset.yaml')\n",
        "\n",
        "    # Load model if path provided\n",
        "    if model is None:\n",
        "        if model_path is None:\n",
        "            raise ValueError(\"Either model_path or model object must be provided\")\n",
        "        model = YOLO(model_path)\n",
        "\n",
        "    # Start MLflow run\n",
        "        with mlflow.start_run(run_name=\"yolov8_test_evaluation\", nested=True) as run:\n",
        "            # Run evaluation\n",
        "            test_results = model.val(\n",
        "                data=data_yaml,\n",
        "                split='test',\n",
        "                plots=True,\n",
        "                save_json=True\n",
        "            )\n",
        "\n",
        "    # Run evaluation\n",
        "    try:\n",
        "        test_results = model.val(\n",
        "            data=data_yaml,\n",
        "            split='test',\n",
        "            plots=True,  # Generate confusion matrix and F1 curve\n",
        "            save_json=True  # Save metrics to JSON\n",
        "        )\n",
        "\n",
        "        # Extract all available metrics\n",
        "        metrics = {\n",
        "            'test_mAP50': test_results.box.map50,  # mAP@0.5\n",
        "            'test_mAP50-95': test_results.box.map,  # mAP@0.5:0.95\n",
        "            'test_precision': test_results.box.mp,   # Mean precision\n",
        "            'test_recall': test_results.box.mr,      # Mean recall\n",
        "            # Calculate F1 manually: 2*(precision*recall)/(precision+recall)\n",
        "            'test_f1': 2 * (test_results.box.mp * test_results.box.mr) /\n",
        "                      (test_results.box.mp + test_results.box.mr + 1e-16),\n",
        "            'test_inference_time': test_results.speed['inference'],\n",
        "        }\n",
        "\n",
        "\n",
        "\n",
        "        mlflow.log_metrics(metrics)\n",
        "        mlflow.log_artifacts(test_results.save_dir)\n",
        "\n",
        "        print(f\"\\n✅ Evaluation complete! Metrics logged to MLflow run: {run.info.run_id}\")\n",
        "        return metrics\n",
        "\n",
        "    except Exception as e:\n",
        "        # Ensure run is ended even if error occurs\n",
        "        if mlflow.active_run():\n",
        "            mlflow.end_run()\n",
        "        print(f\"❌ Evaluation failed: {str(e)}\")\n",
        "        raise\n",
        "\n",
        "evaluate_on_test(model_path='/content/drive/MyDrive/UXO_project/models/YOLO_uxo.pt')"
      ],
      "metadata": {
        "id": "u08dCGyPzHYr"
      },
      "execution_count": null,
      "outputs": []
    },
    {
      "cell_type": "markdown",
      "source": [
        "***Sample prediction:***"
      ],
      "metadata": {
        "id": "LQD_vLmd1LAX"
      }
    },
    {
      "cell_type": "code",
      "source": [
        "from ultralytics import YOLO\n",
        "import matplotlib.pyplot as plt\n",
        "\n",
        "model = YOLO('/content/drive/MyDrive/UXO_project/models/YOLO_uxo.pt')\n",
        "results = model.predict('/content/drive/MyDrive/UXO_project/UXO_dataset/processed/UXO/test/images/6.jpg')\n",
        "\n",
        "# Display with matplotlib\n",
        "annotated_img = results[0].plot()  # Returns numpy array\n",
        "plt.imshow(annotated_img)\n",
        "plt.axis('off')\n",
        "plt.show()"
      ],
      "metadata": {
        "id": "vS_DEvYs1NWB"
      },
      "execution_count": null,
      "outputs": []
    }
  ]
}